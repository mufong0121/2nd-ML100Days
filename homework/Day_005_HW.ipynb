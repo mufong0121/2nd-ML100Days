{
 "cells": [
  {
   "cell_type": "code",
   "execution_count": 43,
   "metadata": {},
   "outputs": [],
   "source": [
    "# Import 需要的套件\n",
    "import os\n",
    "import numpy as np\n",
    "import pandas as pd\n",
    "\n",
    "# 設定 data_path\n",
    "dir_data = 'C:/Users/Sen/Desktop/D100/Part01/'"
   ]
  },
  {
   "cell_type": "code",
   "execution_count": 44,
   "metadata": {},
   "outputs": [],
   "source": [
    "f_app_train = os.path.join(dir_data, 'application_train.csv')\n",
    "app_train = pd.read_csv(f_app_train)"
   ]
  },
  {
   "cell_type": "code",
   "execution_count": 45,
   "metadata": {},
   "outputs": [],
   "source": [
    "import matplotlib.pyplot as plt\n",
    "%matplotlib inline"
   ]
  },
  {
   "cell_type": "markdown",
   "metadata": {},
   "source": [
    "## 練習時間"
   ]
  },
  {
   "cell_type": "markdown",
   "metadata": {},
   "source": [
    "觀察有興趣的欄位的資料分佈，並嘗試找出有趣的訊息\n",
    "#### Eg\n",
    "- 計算任意欄位的平均數及標準差\n",
    "- 畫出任意欄位的[直方圖](https://zh.wikipedia.org/zh-tw/%E7%9B%B4%E6%96%B9%E5%9B%BE)\n",
    "\n",
    "### Hints:\n",
    "- [Descriptive Statistics For pandas Dataframe](https://chrisalbon.com/python/data_wrangling/pandas_dataframe_descriptive_stats/)\n",
    "- [pandas 中的繪圖函數](https://amaozhao.gitbooks.io/pandas-notebook/content/pandas%E4%B8%AD%E7%9A%84%E7%BB%98%E5%9B%BE%E5%87%BD%E6%95%B0.html)\n"
   ]
  },
  {
   "cell_type": "code",
   "execution_count": 46,
   "metadata": {},
   "outputs": [
    {
     "name": "stdout",
     "output_type": "stream",
     "text": [
      "Mean of AMT_INCOME_TOTAL= 168797.9192969845\n",
      "Std of AMT_INCOME_TOTAL= 237123.14627883647\n"
     ]
    }
   ],
   "source": [
    "print('Mean of AMT_INCOME_TOTAL=',app_train['AMT_INCOME_TOTAL'].mean())\n",
    "print('Std of AMT_INCOME_TOTAL=',app_train['AMT_INCOME_TOTAL'].std())"
   ]
  },
  {
   "cell_type": "code",
   "execution_count": 47,
   "metadata": {},
   "outputs": [
    {
     "data": {
      "text/plain": [
       "0         202500.000\n",
       "1         270000.000\n",
       "2          67500.000\n",
       "3         135000.000\n",
       "4         121500.000\n",
       "5          99000.000\n",
       "6         171000.000\n",
       "7         360000.000\n",
       "8         112500.000\n",
       "9         135000.000\n",
       "10        112500.000\n",
       "11         38419.155\n",
       "12         67500.000\n",
       "13        225000.000\n",
       "14        189000.000\n",
       "15        157500.000\n",
       "16        108000.000\n",
       "17         81000.000\n",
       "18        112500.000\n",
       "19         90000.000\n",
       "20        135000.000\n",
       "21        202500.000\n",
       "22        450000.000\n",
       "23         83250.000\n",
       "24        135000.000\n",
       "25         90000.000\n",
       "26        112500.000\n",
       "27        112500.000\n",
       "28        270000.000\n",
       "29         90000.000\n",
       "             ...    \n",
       "307481    225000.000\n",
       "307482    225000.000\n",
       "307483     99000.000\n",
       "307484    540000.000\n",
       "307485    270000.000\n",
       "307486    292500.000\n",
       "307487    117000.000\n",
       "307488    157500.000\n",
       "307489    225000.000\n",
       "307490     81000.000\n",
       "307491     90000.000\n",
       "307492    585000.000\n",
       "307493    135000.000\n",
       "307494    270000.000\n",
       "307495    180000.000\n",
       "307496    360000.000\n",
       "307497    180000.000\n",
       "307498    198000.000\n",
       "307499     81000.000\n",
       "307500    261000.000\n",
       "307501     81000.000\n",
       "307502     94500.000\n",
       "307503    112500.000\n",
       "307504    153000.000\n",
       "307505    112500.000\n",
       "307506    157500.000\n",
       "307507     72000.000\n",
       "307508    153000.000\n",
       "307509    171000.000\n",
       "307510    157500.000\n",
       "Name: AMT_INCOME_TOTAL, Length: 307511, dtype: float64"
      ]
     },
     "execution_count": 47,
     "metadata": {},
     "output_type": "execute_result"
    }
   ],
   "source": [
    "app_train['AMT_INCOME_TOTAL']"
   ]
  },
  {
   "cell_type": "code",
   "execution_count": 54,
   "metadata": {},
   "outputs": [
    {
     "data": {
      "image/png": "[encoded data removed]",
      "text/plain": [
       "<Figure size 432x288 with 1 Axes>"
      ]
     },
     "metadata": {
      "needs_background": "light"
     },
     "output_type": "display_data"
    }
   ],
   "source": [
    "INCOME_TOTAL=plt.hist(app_train['AMT_INCOME_TOTAL'],bins=50,range=(0,450000),label=('AMT INCOME'))\n",
    "plt.title('Distribution of AMT INCOME')\n",
    "plt.legend(loc = 'best')\n",
    "plt.show()"
   ]
  }
 ],
 "metadata": {
  "kernelspec": {
   "display_name": "Python 3",
   "language": "python",
   "name": "python3"
  },
  "language_info": {
   "codemirror_mode": {
    "name": "ipython",
    "version": 3
   },
   "file_extension": ".py",
   "mimetype": "text/x-python",
   "name": "python",
   "nbconvert_exporter": "python",
   "pygments_lexer": "ipython3",
   "version": "3.7.1"
  }
 },
 "nbformat": 4,
 "nbformat_minor": 2
}
